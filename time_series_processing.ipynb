{
  "nbformat": 4,
  "nbformat_minor": 0,
  "metadata": {
    "colab": {
      "provenance": [],
      "authorship_tag": "ABX9TyOg0dWf/DSacmQqLX/5UP12",
      "include_colab_link": true
    },
    "kernelspec": {
      "name": "python3",
      "display_name": "Python 3"
    },
    "language_info": {
      "name": "python"
    }
  },
  "cells": [
    {
      "cell_type": "markdown",
      "metadata": {
        "id": "view-in-github",
        "colab_type": "text"
      },
      "source": [
        "<a href=\"https://colab.research.google.com/github/Dmitry1505/data_sequence/blob/main/time_series_processing.ipynb\" target=\"_parent\"><img src=\"https://colab.research.google.com/assets/colab-badge.svg\" alt=\"Open In Colab\"/></a>"
      ]
    },
    {
      "cell_type": "code",
      "execution_count": null,
      "metadata": {
        "colab": {
          "base_uri": "https://localhost:8080/"
        },
        "id": "UY9XIsIypm4Q",
        "outputId": "13c5859f-7c2f-44fa-9dc6-e6b25097bdaa"
      },
      "outputs": [
        {
          "output_type": "stream",
          "name": "stdout",
          "text": [
            "[0, 25, 5, 10, 5, 5, 5, 5, 1, 9, 5, 5, 0, 29, 6, 5, 6, 4, 5, 2, 4, 9, 5, 5, 0, 25, 5, 10, 5, 5, 5, 5, 1, 9, 5, 5]\n"
          ]
        }
      ],
      "source": [
        "#12 months cumulative to actual values\n",
        "df = [0, 25, 30, 40, 45, 50, 55, 60, 61, 70, 75, 80, 0, 29, 35, 40, 46, 50, 55, 57, 61, 70, 75, 80, 0, 25, 30, 40, 45, 50, 55, 60, 61, 70, 75, 80]\n",
        "df_2 = [df[0]]\n",
        "\n",
        "for i in range(1, len(df)):\n",
        "    if i % 12 == 0:\n",
        "        df_2.append(df[i])\n",
        "    else:\n",
        "        df_2.append(df[i] - df[i-1])\n",
        "\n",
        "print(df_2)"
      ]
    },
    {
      "cell_type": "code",
      "source": [
        "date = ['01.2020', '02.2020', '03.2020', '04.2020', '05.2020', '06.2020', '07.2020', '08.2020', '09.2020', '10.2020', '11.2020', '12.2020', '01.2021', '02.2021', '03.2021', '04.2021', '05.2021', '06.2021', '07.2021', '08.2021', '09.2021', '10.2021', '11.2021', '12.2021', '01.2022', '02.2022', '03.2022', '04.2022', '05.2022', '06.2022', '07.2022', '08.2022', '09.2022', '10.2022', '11.2022', '12.2022']\n",
        "df = [ 0, 25, 30, 40, 45, 50, 55, 60, 61, 70, 75, 80, 0, 29, 35, 40, 46, 50, 55, 57, 61, 70, 75, 80, 0, 25, 30, 40, 45, 50, 55, 60, 61, 70, 75, 80]\n",
        "\n",
        "# Создаем новый список new_df\n",
        "df_2 = []\n",
        "\n",
        "for i in range(len(date)):\n",
        "    if date[i].startswith('01.'):\n",
        "        df_2.append(df[i])\n",
        "    else:\n",
        "        df_2.append(df[i] - df[i - 1])\n",
        "\n",
        "if not date[0].startswith('01.'):\n",
        "  df_2 = df_2[1:]\n",
        "\n",
        "print(df_2)\n"
      ],
      "metadata": {
        "colab": {
          "base_uri": "https://localhost:8080/"
        },
        "id": "v1jgdRSQqKBy",
        "outputId": "e9be0541-59f2-425c-825a-5522efef8a45"
      },
      "execution_count": null,
      "outputs": [
        {
          "output_type": "stream",
          "name": "stdout",
          "text": [
            "[0, 25, 5, 10, 5, 5, 5, 5, 1, 9, 5, 5, 0, 29, 6, 5, 6, 4, 5, 2, 4, 9, 5, 5, 0, 25, 5, 10, 5, 5, 5, 5, 1, 9, 5, 5]\n"
          ]
        }
      ]
    },
    {
      "cell_type": "code",
      "source": [
        "date = ['01.2020', '02.2020', '03.2020', '04.2020', '05.2020', '06.2020', '07.2020', '08.2020', '09.2020', '10.2020', '11.2020', '12.2020', '01.2021', '02.2021', '03.2021', '04.2021', '05.2021', '06.2021', '07.2021', '08.2021', '09.2021', '10.2021', '11.2021', '12.2021', '01.2022', '02.2022', '03.2022', '04.2022', '05.2022', '06.2022', '07.2022', '08.2022', '09.2022', '10.2022', '11.2022', '12.2022']\n",
        "df = [0, 25, 30, 40, 45, 50, 55, 60, 61, 70, 75, 80, 0, 29, 35, 40, 46, 50, 55, 57, 61, 70, 75, 80, 0, 25, 30, 40, 45, 50, 55, 60, 61, 70, 75, 80]\n",
        "\n",
        "# Создаем список для хранения средних арифметических значений\n",
        "averages = []\n",
        "\n",
        "# Итерируемся по каждому месяцу в date и рассчитываем среднее арифметическое для каждого объединения\n",
        "i = 0  # Индекс для итерации по df\n",
        "while i < len(date):\n",
        "    if date[i].startswith('01.') or date[i].startswith('02.') or date[i].startswith('03.'):\n",
        "        values_in_range = []\n",
        "        while i < len(date) and (date[i].startswith('01.') or date[i].startswith('02.') or date[i].startswith('03.')):\n",
        "            values_in_range.append(df[i])\n",
        "            i += 1\n",
        "        avg = sum(values_in_range) / len(values_in_range)\n",
        "        averages.append(avg)\n",
        "    elif date[i].startswith('04.') or date[i].startswith('05.') or date[i].startswith('06.'):\n",
        "        values_in_range = []\n",
        "        while i < len(date) and (date[i].startswith('04.') or date[i].startswith('05.') or date[i].startswith('06.')):\n",
        "            values_in_range.append(df[i])\n",
        "            i += 1\n",
        "        avg = sum(values_in_range) / len(values_in_range)\n",
        "        averages.append(avg)\n",
        "    elif date[i].startswith('07.') or date[i].startswith('08.') or date[i].startswith('09.'):\n",
        "        values_in_range = []\n",
        "        while i < len(date) and (date[i].startswith('07.') or date[i].startswith('08.') or date[i].startswith('09.')):\n",
        "            values_in_range.append(df[i])\n",
        "            i += 1\n",
        "        avg = sum(values_in_range) / len(values_in_range)\n",
        "        averages.append(avg)\n",
        "    else:  # Остальные месяцы, включая '10.', '11.', '12.'\n",
        "        values_in_range = []\n",
        "        while i < len(date) and (date[i].startswith('10.') or date[i].startswith('11.') or date[i].startswith('12.')):\n",
        "            values_in_range.append(df[i])\n",
        "            i += 1\n",
        "        avg = sum(values_in_range) / len(values_in_range)\n",
        "        averages.append(avg)\n",
        "\n",
        "# averages содержит 12 значений среднего арифметического для каждого объединения\n",
        "print(averages)\n"
      ],
      "metadata": {
        "colab": {
          "base_uri": "https://localhost:8080/"
        },
        "id": "OT2QK1GQs8ik",
        "outputId": "e1ebfe70-b43a-4d1b-cccd-f5e0ad4cb0d2"
      },
      "execution_count": null,
      "outputs": [
        {
          "output_type": "stream",
          "name": "stdout",
          "text": [
            "[18.333333333333332, 45.0, 58.666666666666664, 75.0, 21.333333333333332, 45.333333333333336, 57.666666666666664, 75.0, 18.333333333333332, 45.0, 58.666666666666664, 75.0]\n"
          ]
        }
      ]
    }
  ]
}